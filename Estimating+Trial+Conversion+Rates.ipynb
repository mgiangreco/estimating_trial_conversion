{
 "cells": [
  {
   "cell_type": "markdown",
   "metadata": {},
   "source": [
    "## Estimating Trial Conversion Rates"
   ]
  },
  {
   "cell_type": "markdown",
   "metadata": {},
   "source": [
    "### I. Exploratory Analysis"
   ]
  },
  {
   "cell_type": "markdown",
   "metadata": {},
   "source": [
    "Our goal is to estimate the \"eventual conversion rate\"--the percent of users who start a trial who end up subscribing--for a given cohort. A cohort is defined as a group of users who started a trial on the same date. Let's take a look at our dataset."
   ]
  },
  {
   "cell_type": "code",
   "execution_count": 910,
   "metadata": {
    "collapsed": false
   },
   "outputs": [
    {
     "data": {
      "text/html": [
       "<div>\n",
       "<table border=\"1\" class=\"dataframe\">\n",
       "  <thead>\n",
       "    <tr style=\"text-align: right;\">\n",
       "      <th></th>\n",
       "      <th>id</th>\n",
       "      <th>trial_date</th>\n",
       "      <th>trial_hour</th>\n",
       "      <th>day_of_week</th>\n",
       "      <th>trial_country</th>\n",
       "      <th>subscription_date</th>\n",
       "      <th>sub_hour_start</th>\n",
       "    </tr>\n",
       "  </thead>\n",
       "  <tbody>\n",
       "    <tr>\n",
       "      <th>0</th>\n",
       "      <td>51809381e4b03c6b86a6256f</td>\n",
       "      <td>5/1/2013</td>\n",
       "      <td>0</td>\n",
       "      <td>Wednesday</td>\n",
       "      <td>United States</td>\n",
       "      <td>5/14/2013</td>\n",
       "      <td>23.0</td>\n",
       "    </tr>\n",
       "    <tr>\n",
       "      <th>1</th>\n",
       "      <td>518093ade4b00cbd5d9abe26</td>\n",
       "      <td>5/1/2013</td>\n",
       "      <td>0</td>\n",
       "      <td>Wednesday</td>\n",
       "      <td>United States</td>\n",
       "      <td>NaN</td>\n",
       "      <td>NaN</td>\n",
       "    </tr>\n",
       "    <tr>\n",
       "      <th>2</th>\n",
       "      <td>518093d6e4b0c1fda9c05d54</td>\n",
       "      <td>5/1/2013</td>\n",
       "      <td>0</td>\n",
       "      <td>Wednesday</td>\n",
       "      <td>United States</td>\n",
       "      <td>5/15/2013</td>\n",
       "      <td>20.0</td>\n",
       "    </tr>\n",
       "    <tr>\n",
       "      <th>3</th>\n",
       "      <td>518093f2e4b0b0f0caf55867</td>\n",
       "      <td>5/1/2013</td>\n",
       "      <td>0</td>\n",
       "      <td>Wednesday</td>\n",
       "      <td>United States</td>\n",
       "      <td>NaN</td>\n",
       "      <td>NaN</td>\n",
       "    </tr>\n",
       "    <tr>\n",
       "      <th>4</th>\n",
       "      <td>518093fee4b01eeb7aec8bfc</td>\n",
       "      <td>5/1/2013</td>\n",
       "      <td>0</td>\n",
       "      <td>Wednesday</td>\n",
       "      <td>United States</td>\n",
       "      <td>NaN</td>\n",
       "      <td>NaN</td>\n",
       "    </tr>\n",
       "  </tbody>\n",
       "</table>\n",
       "</div>"
      ],
      "text/plain": [
       "                         id trial_date  trial_hour day_of_week  trial_country  \\\n",
       "0  51809381e4b03c6b86a6256f   5/1/2013           0   Wednesday  United States   \n",
       "1  518093ade4b00cbd5d9abe26   5/1/2013           0   Wednesday  United States   \n",
       "2  518093d6e4b0c1fda9c05d54   5/1/2013           0   Wednesday  United States   \n",
       "3  518093f2e4b0b0f0caf55867   5/1/2013           0   Wednesday  United States   \n",
       "4  518093fee4b01eeb7aec8bfc   5/1/2013           0   Wednesday  United States   \n",
       "\n",
       "  subscription_date  sub_hour_start  \n",
       "0         5/14/2013            23.0  \n",
       "1               NaN             NaN  \n",
       "2         5/15/2013            20.0  \n",
       "3               NaN             NaN  \n",
       "4               NaN             NaN  "
      ]
     },
     "execution_count": 910,
     "metadata": {},
     "output_type": "execute_result"
    }
   ],
   "source": [
    "#!/usr/bin/env python2\n",
    "\n",
    "import pandas as pd\n",
    "import numpy as np\n",
    "import datetime\n",
    "\n",
    "\n",
    "# Read in the data \n",
    "\n",
    "data = pd.read_csv('/Users/mgiangreco/Desktop/Strategy_Data_Set.csv')\n",
    "\n",
    "data.head()"
   ]
  },
  {
   "cell_type": "code",
   "execution_count": 911,
   "metadata": {
    "collapsed": false
   },
   "outputs": [],
   "source": [
    "# Convert date columns to datetime \n",
    "\n",
    "data['trial_date'] = pd.to_datetime(data['trial_date'])\n",
    "\n",
    "data['subscription_date'] = pd.to_datetime(data['subscription_date'])"
   ]
  },
  {
   "cell_type": "markdown",
   "metadata": {},
   "source": [
    "Note that there are no subscriptions after Oct 10th: the last subscription date comes about 5 months after the first trial. This suggests that the data may be right-censored--i.e., subscription events for these cohorts would not be recorded if they occurred after Oct 10th."
   ]
  },
  {
   "cell_type": "code",
   "execution_count": 912,
   "metadata": {
    "collapsed": false
   },
   "outputs": [
    {
     "name": "stdout",
     "output_type": "stream",
     "text": [
      "The dataset contains 74890 unique users and 31 unique cohorts, with trial dates ranging from 2013-05-01 to 2013-05-31 and subscription dates ranging from 2013-05-01 to 2013-10-10.\n"
     ]
    }
   ],
   "source": [
    "# Print summary statistics \n",
    "\n",
    "unique_users = data['id'].nunique()\n",
    "cohorts = data['trial_date'].nunique()\n",
    "min_trial_date = min(data['trial_date']).date()\n",
    "max_trial_date = max(data['trial_date']).date()\n",
    "min_sub_date = min(data['subscription_date']).date()\n",
    "max_sub_date = max(data['subscription_date']).date()\n",
    "\n",
    "print(\"The dataset contains %d unique users and %d unique cohorts, \\\n",
    "with trial dates ranging from %s to %s and \\\n",
    "subscription dates ranging from %s to %s.\")\\\n",
    "% (unique_users, cohorts, min_trial_date, max_trial_date,\\\n",
    "   min_sub_date, max_sub_date)"
   ]
  },
  {
   "cell_type": "markdown",
   "metadata": {},
   "source": [
    "The overwhelming majority of trial starts come from the United States."
   ]
  },
  {
   "cell_type": "code",
   "execution_count": 913,
   "metadata": {
    "collapsed": false
   },
   "outputs": [
    {
     "data": {
      "image/png": "[encoded data removed]",
      "text/plain": [
       "<matplotlib.figure.Figure at 0x13d01b590>"
      ]
     },
     "metadata": {},
     "output_type": "display_data"
    }
   ],
   "source": [
    "# Generate histogram of top 20 trial countries\n",
    "\n",
    "data['trial_country'].value_counts()[:20].plot(kind='barh');"
   ]
  },
  {
   "cell_type": "markdown",
   "metadata": {},
   "source": [
    "Trial starts are slightly lower on weekends, but that is not unexpected given the overall drop in internet usage on weekends."
   ]
  },
  {
   "cell_type": "code",
   "execution_count": 914,
   "metadata": {
    "collapsed": false
   },
   "outputs": [
    {
     "data": {
      "image/png": "[encoded data removed]",
      "text/plain": [
       "<matplotlib.figure.Figure at 0x13cde8410>"
      ]
     },
     "metadata": {},
     "output_type": "display_data"
    }
   ],
   "source": [
    "# Generate histogram of days of the week when trials were started\n",
    "\n",
    "data['day_of_week'].value_counts().plot(kind='barh');"
   ]
  },
  {
   "cell_type": "markdown",
   "metadata": {},
   "source": [
    "Though some cohorts are larger than others, we have >1500 users in each cohort."
   ]
  },
  {
   "cell_type": "code",
   "execution_count": 915,
   "metadata": {
    "collapsed": false
   },
   "outputs": [
    {
     "data": {
      "image/png": "[encoded data removed]",
      "text/plain": [
       "<matplotlib.figure.Figure at 0x13cde2790>"
      ]
     },
     "metadata": {},
     "output_type": "display_data"
    }
   ],
   "source": [
    "# Generate histogram of all trial dates\n",
    "\n",
    "data['trial_date'].value_counts().plot(kind='barh');"
   ]
  },
  {
   "cell_type": "markdown",
   "metadata": {},
   "source": [
    "### II. Kaplan-Meier Estimate of Conversion Rate"
   ]
  },
  {
   "cell_type": "markdown",
   "metadata": {},
   "source": [
    "Given the possibility of censored data, one valid approach is survival analysis. This approach also generalizes well to datasets with even greater levels of censorship--for instance, very recent cohorts for which we cannot see into the future. We can plot conversion rate as a function of time using the Kaplan-Meier estimator."
   ]
  },
  {
   "cell_type": "code",
   "execution_count": 916,
   "metadata": {
    "collapsed": false
   },
   "outputs": [
    {
     "data": {
      "text/html": [
       "<div>\n",
       "<table border=\"1\" class=\"dataframe\">\n",
       "  <thead>\n",
       "    <tr style=\"text-align: right;\">\n",
       "      <th></th>\n",
       "      <th>id</th>\n",
       "      <th>trial_date</th>\n",
       "      <th>trial_hour</th>\n",
       "      <th>day_of_week</th>\n",
       "      <th>trial_country</th>\n",
       "      <th>subscription_date</th>\n",
       "      <th>sub_hour_start</th>\n",
       "      <th>duration</th>\n",
       "      <th>subscribed</th>\n",
       "    </tr>\n",
       "  </thead>\n",
       "  <tbody>\n",
       "    <tr>\n",
       "      <th>0</th>\n",
       "      <td>51809381e4b03c6b86a6256f</td>\n",
       "      <td>2013-05-01</td>\n",
       "      <td>0</td>\n",
       "      <td>Wednesday</td>\n",
       "      <td>United States</td>\n",
       "      <td>2013-05-14</td>\n",
       "      <td>23.0</td>\n",
       "      <td>13.0</td>\n",
       "      <td>True</td>\n",
       "    </tr>\n",
       "    <tr>\n",
       "      <th>1</th>\n",
       "      <td>518093ade4b00cbd5d9abe26</td>\n",
       "      <td>2013-05-01</td>\n",
       "      <td>0</td>\n",
       "      <td>Wednesday</td>\n",
       "      <td>United States</td>\n",
       "      <td>NaT</td>\n",
       "      <td>NaN</td>\n",
       "      <td>162.0</td>\n",
       "      <td>False</td>\n",
       "    </tr>\n",
       "    <tr>\n",
       "      <th>2</th>\n",
       "      <td>518093d6e4b0c1fda9c05d54</td>\n",
       "      <td>2013-05-01</td>\n",
       "      <td>0</td>\n",
       "      <td>Wednesday</td>\n",
       "      <td>United States</td>\n",
       "      <td>2013-05-15</td>\n",
       "      <td>20.0</td>\n",
       "      <td>14.0</td>\n",
       "      <td>True</td>\n",
       "    </tr>\n",
       "    <tr>\n",
       "      <th>3</th>\n",
       "      <td>518093f2e4b0b0f0caf55867</td>\n",
       "      <td>2013-05-01</td>\n",
       "      <td>0</td>\n",
       "      <td>Wednesday</td>\n",
       "      <td>United States</td>\n",
       "      <td>NaT</td>\n",
       "      <td>NaN</td>\n",
       "      <td>162.0</td>\n",
       "      <td>False</td>\n",
       "    </tr>\n",
       "    <tr>\n",
       "      <th>4</th>\n",
       "      <td>518093fee4b01eeb7aec8bfc</td>\n",
       "      <td>2013-05-01</td>\n",
       "      <td>0</td>\n",
       "      <td>Wednesday</td>\n",
       "      <td>United States</td>\n",
       "      <td>NaT</td>\n",
       "      <td>NaN</td>\n",
       "      <td>162.0</td>\n",
       "      <td>False</td>\n",
       "    </tr>\n",
       "  </tbody>\n",
       "</table>\n",
       "</div>"
      ],
      "text/plain": [
       "                         id trial_date  trial_hour day_of_week  trial_country  \\\n",
       "0  51809381e4b03c6b86a6256f 2013-05-01           0   Wednesday  United States   \n",
       "1  518093ade4b00cbd5d9abe26 2013-05-01           0   Wednesday  United States   \n",
       "2  518093d6e4b0c1fda9c05d54 2013-05-01           0   Wednesday  United States   \n",
       "3  518093f2e4b0b0f0caf55867 2013-05-01           0   Wednesday  United States   \n",
       "4  518093fee4b01eeb7aec8bfc 2013-05-01           0   Wednesday  United States   \n",
       "\n",
       "  subscription_date  sub_hour_start  duration subscribed  \n",
       "0        2013-05-14            23.0      13.0       True  \n",
       "1               NaT             NaN     162.0      False  \n",
       "2        2013-05-15            20.0      14.0       True  \n",
       "3               NaT             NaN     162.0      False  \n",
       "4               NaT             NaN     162.0      False  "
      ]
     },
     "execution_count": 916,
     "metadata": {},
     "output_type": "execute_result"
    }
   ],
   "source": [
    "# Add \"duration\" and \"adopted\" columns\n",
    "\n",
    "from lifelines.utils import datetimes_to_durations\n",
    "\n",
    "current_date = max_sub_date\n",
    "start_dates = data['trial_date']\n",
    "end_dates = data['subscription_date']\n",
    "T, E = datetimes_to_durations(start_dates, \n",
    "                              end_dates,\n",
    "                              fill_date=current_date, \n",
    "                              freq='D')\n",
    "\n",
    "durations = pd.DataFrame(T, columns=['duration'])\n",
    "event_observed = pd.DataFrame(E, columns=['subscribed'])\n",
    "data = pd.concat([data, durations, event_observed], axis=1)\n",
    "\n",
    "data.head()"
   ]
  },
  {
   "cell_type": "markdown",
   "metadata": {},
   "source": [
    "The conversion rate rises steeply around day 15 (perhaps this is a 14-day trial) and starts to level off around the 30-day mark, though it never goes completely horizontal. Because of this, we'll have to pick a more specific definition of \"eventual conversion rate\". For instance, the 30-day conversion rate is ~18.2%."
   ]
  },
  {
   "cell_type": "code",
   "execution_count": 917,
   "metadata": {
    "collapsed": false
   },
   "outputs": [
    {
     "name": "stdout",
     "output_type": "stream",
     "text": [
      "30-day Conversion Rate: 0.1820\n"
     ]
    },
    {
     "data": {
      "image/png": "[encoded data removed]",
      "text/plain": [
       "<matplotlib.figure.Figure at 0x13d047610>"
      ]
     },
     "metadata": {},
     "output_type": "display_data"
    }
   ],
   "source": [
    "# Plot conversion rate as a function of time\n",
    "\n",
    "%matplotlib inline\n",
    "import lifelines\n",
    "from lifelines import KaplanMeierFitter\n",
    "import matplotlib.pyplot as plt\n",
    "\n",
    "kmf = KaplanMeierFitter()\n",
    "\n",
    "T = data['duration']\n",
    "S = data['subscribed']\n",
    "\n",
    "kmf.fit(T, event_observed=S,\n",
    "       label='All Users')\n",
    "(1-kmf.survival_function_).plot()\n",
    "\n",
    "plt.ylabel('Conversion Rate')\n",
    "plt.xlabel('Days Since Trial')\n",
    "plt.title(\"Conversion Rate As A Function of Time\");\n",
    "\n",
    "actual = (1-kmf.survival_function_)\n",
    "\n",
    "print ('30-day Conversion Rate: %.4f' % (actual.iloc[29]))"
   ]
  },
  {
   "cell_type": "markdown",
   "metadata": {},
   "source": [
    "For users who subscribed, the average number of days from trial to subscription is ~15 (with a large standard deviation of 23). "
   ]
  },
  {
   "cell_type": "code",
   "execution_count": 918,
   "metadata": {
    "collapsed": false
   },
   "outputs": [
    {
     "data": {
      "text/plain": [
       "count    15571.000000\n",
       "mean        15.077002\n",
       "std         23.359249\n",
       "min          0.000000\n",
       "25%          1.000000\n",
       "50%          9.000000\n",
       "75%         15.000000\n",
       "max        157.000000\n",
       "Name: duration, dtype: float64"
      ]
     },
     "execution_count": 918,
     "metadata": {},
     "output_type": "execute_result"
    }
   ],
   "source": [
    "# Generate summary statistics for duration, for users who subscribed\n",
    "\n",
    "data['duration'][data['subscribed']==True].describe()                                                    "
   ]
  },
  {
   "cell_type": "markdown",
   "metadata": {},
   "source": [
    "Given that most trials come from the U.S., it might be interesting to compare U.S. trials against non-U.S. trials. Indeed, trials originating in the U.S. appear to have higher conversion rates."
   ]
  },
  {
   "cell_type": "code",
   "execution_count": 919,
   "metadata": {
    "collapsed": false
   },
   "outputs": [
    {
     "data": {
      "image/png": "[encoded data removed]",
      "text/plain": [
       "<matplotlib.figure.Figure at 0x13d020e50>"
      ]
     },
     "metadata": {},
     "output_type": "display_data"
    }
   ],
   "source": [
    "# Plot U.S. vs. Non-U.S. Conversion Rates\n",
    "\n",
    "ax = plt.subplot(111)\n",
    "\n",
    "usa = (data['trial_country'] == \"United States\")\n",
    "\n",
    "kmf.fit(T[usa], event_observed=S[usa], label='U.S.')\n",
    "(1-kmf.survival_function_).plot(ax=ax)\n",
    "kmf.fit(T[~usa], event_observed=S[~usa], label='Non-U.S.')\n",
    "(1-kmf.survival_function_).plot(ax=ax)\n",
    "\n",
    "plt.title(\"U.S. vs. Non-U.S. Conversion Rates\");"
   ]
  },
  {
   "cell_type": "markdown",
   "metadata": {},
   "source": [
    "### III. Cox Regression"
   ]
  },
  {
   "cell_type": "markdown",
   "metadata": {},
   "source": [
    "We can test for the impact of 'trial_country' and 'day_of_week' in a Cox regression. "
   ]
  },
  {
   "cell_type": "code",
   "execution_count": 920,
   "metadata": {
    "collapsed": false
   },
   "outputs": [
    {
     "data": {
      "text/html": [
       "<div>\n",
       "<table border=\"1\" class=\"dataframe\">\n",
       "  <thead>\n",
       "    <tr style=\"text-align: right;\">\n",
       "      <th></th>\n",
       "      <th>subscription_date</th>\n",
       "      <th>duration</th>\n",
       "      <th>subscribed</th>\n",
       "      <th>Friday</th>\n",
       "      <th>Monday</th>\n",
       "      <th>Saturday</th>\n",
       "      <th>Sunday</th>\n",
       "      <th>Thursday</th>\n",
       "      <th>Tuesday</th>\n",
       "      <th>Wednesday</th>\n",
       "      <th>USA</th>\n",
       "    </tr>\n",
       "    <tr>\n",
       "      <th>trial_date</th>\n",
       "      <th></th>\n",
       "      <th></th>\n",
       "      <th></th>\n",
       "      <th></th>\n",
       "      <th></th>\n",
       "      <th></th>\n",
       "      <th></th>\n",
       "      <th></th>\n",
       "      <th></th>\n",
       "      <th></th>\n",
       "      <th></th>\n",
       "    </tr>\n",
       "  </thead>\n",
       "  <tbody>\n",
       "    <tr>\n",
       "      <th>2013-05-21</th>\n",
       "      <td>NaT</td>\n",
       "      <td>142.0</td>\n",
       "      <td>False</td>\n",
       "      <td>0</td>\n",
       "      <td>0</td>\n",
       "      <td>0</td>\n",
       "      <td>0</td>\n",
       "      <td>0</td>\n",
       "      <td>1</td>\n",
       "      <td>0</td>\n",
       "      <td>False</td>\n",
       "    </tr>\n",
       "    <tr>\n",
       "      <th>2013-05-26</th>\n",
       "      <td>NaT</td>\n",
       "      <td>137.0</td>\n",
       "      <td>False</td>\n",
       "      <td>0</td>\n",
       "      <td>0</td>\n",
       "      <td>0</td>\n",
       "      <td>1</td>\n",
       "      <td>0</td>\n",
       "      <td>0</td>\n",
       "      <td>0</td>\n",
       "      <td>True</td>\n",
       "    </tr>\n",
       "    <tr>\n",
       "      <th>2013-05-24</th>\n",
       "      <td>2013-05-24</td>\n",
       "      <td>0.0</td>\n",
       "      <td>True</td>\n",
       "      <td>1</td>\n",
       "      <td>0</td>\n",
       "      <td>0</td>\n",
       "      <td>0</td>\n",
       "      <td>0</td>\n",
       "      <td>0</td>\n",
       "      <td>0</td>\n",
       "      <td>True</td>\n",
       "    </tr>\n",
       "    <tr>\n",
       "      <th>2013-05-22</th>\n",
       "      <td>NaT</td>\n",
       "      <td>141.0</td>\n",
       "      <td>False</td>\n",
       "      <td>0</td>\n",
       "      <td>0</td>\n",
       "      <td>0</td>\n",
       "      <td>0</td>\n",
       "      <td>0</td>\n",
       "      <td>0</td>\n",
       "      <td>1</td>\n",
       "      <td>True</td>\n",
       "    </tr>\n",
       "    <tr>\n",
       "      <th>2013-05-07</th>\n",
       "      <td>NaT</td>\n",
       "      <td>156.0</td>\n",
       "      <td>False</td>\n",
       "      <td>0</td>\n",
       "      <td>0</td>\n",
       "      <td>0</td>\n",
       "      <td>0</td>\n",
       "      <td>0</td>\n",
       "      <td>1</td>\n",
       "      <td>0</td>\n",
       "      <td>True</td>\n",
       "    </tr>\n",
       "  </tbody>\n",
       "</table>\n",
       "</div>"
      ],
      "text/plain": [
       "           subscription_date  duration subscribed  Friday  Monday  Saturday  \\\n",
       "trial_date                                                                    \n",
       "2013-05-21               NaT     142.0      False       0       0         0   \n",
       "2013-05-26               NaT     137.0      False       0       0         0   \n",
       "2013-05-24        2013-05-24       0.0       True       1       0         0   \n",
       "2013-05-22               NaT     141.0      False       0       0         0   \n",
       "2013-05-07               NaT     156.0      False       0       0         0   \n",
       "\n",
       "            Sunday  Thursday  Tuesday  Wednesday    USA  \n",
       "trial_date                                               \n",
       "2013-05-21       0         0        1          0  False  \n",
       "2013-05-26       1         0        0          0   True  \n",
       "2013-05-24       0         0        0          0   True  \n",
       "2013-05-22       0         0        0          1   True  \n",
       "2013-05-07       0         0        1          0   True  "
      ]
     },
     "execution_count": 920,
     "metadata": {},
     "output_type": "execute_result"
    }
   ],
   "source": [
    "# Prepare data for regression\n",
    "\n",
    "data.set_index('trial_date', inplace=True) # Set trial_date to index\n",
    "\n",
    "data.drop(['id', \n",
    "           'trial_hour', \n",
    "           'sub_hour_start'], \n",
    "          axis=1, inplace=True) # drop id, trial_hour, and sub_hour\n",
    "\n",
    "dow = pd.get_dummies(data['day_of_week']) # one hot encode day of week\n",
    "\n",
    "data = pd.concat([data, dow], axis=1)\n",
    "\n",
    "data['USA'] = (data['trial_country']==\"United States\") \n",
    "\n",
    "data.drop(['trial_country', 'day_of_week'], axis=1, inplace=True)\n",
    "\n",
    "data.sample(5)"
   ]
  },
  {
   "cell_type": "markdown",
   "metadata": {},
   "source": [
    "The only significant covariate is 'USA'. Day of week has no discernable impact on conversion rate, so we can drop the day of week columns. We can also show that the USA variable conforms to the proportional hazards assumption--i.e., the hazard functions of the U.S. group and the non-U.S. group are proportional over time--a key assumption of this particular model."
   ]
  },
  {
   "cell_type": "code",
   "execution_count": 921,
   "metadata": {
    "collapsed": false
   },
   "outputs": [
    {
     "name": "stdout",
     "output_type": "stream",
     "text": [
      "n=74891, number of events=15571\n",
      "\n",
      "              coef  exp(coef)    se(coef)       z      p   lower 0.95  upper 0.95     \n",
      "Friday    -43.6749     0.0000 160233.3607 -0.0003 0.9998 -314164.3407 314076.9910     \n",
      "Monday    -43.8309     0.0000 160233.3607 -0.0003 0.9998 -314164.4968 314076.8349     \n",
      "Saturday  -43.7236     0.0000 160233.3607 -0.0003 0.9998 -314164.3894 314076.9423     \n",
      "Sunday    -43.7038     0.0000 160233.3607 -0.0003 0.9998 -314164.3696 314076.9620     \n",
      "Thursday  -43.6803     0.0000 160233.3607 -0.0003 0.9998 -314164.3461 314076.9856     \n",
      "Tuesday   -43.7098     0.0000 160233.3607 -0.0003 0.9998 -314164.3757 314076.9560     \n",
      "Wednesday -43.7232     0.0000 160233.3607 -0.0003 0.9998 -314164.3890 314076.9427     \n",
      "USA         0.3889     1.4753      0.0172 22.5638 0.0000       0.3551      0.4227  ***\n",
      "---\n",
      "Signif. codes:  0 '***' 0.001 '**' 0.01 '*' 0.05 '.' 0.1 ' ' 1 \n",
      "\n",
      "Concordance = 0.552\n"
     ]
    }
   ],
   "source": [
    "# Fit Cox regression model\n",
    "\n",
    "from lifelines import CoxPHFitter\n",
    "\n",
    "cph = CoxPHFitter()\n",
    "cph.fit(data.iloc[:,1:], duration_col='duration', event_col='subscribed')\n",
    "\n",
    "cph.print_summary()"
   ]
  },
  {
   "cell_type": "code",
   "execution_count": 922,
   "metadata": {
    "collapsed": false
   },
   "outputs": [
    {
     "data": {
      "image/png": "[encoded data removed]",
      "text/plain": [
       "<matplotlib.figure.Figure at 0x138b56350>"
      ]
     },
     "metadata": {},
     "output_type": "display_data"
    }
   ],
   "source": [
    "# Check the proportional hazards assumption of USA variable \n",
    "\n",
    "usa_0 = data.loc[data['USA'] == False]\n",
    "usa_1 = data.loc[data['USA'] == True]\n",
    "\n",
    "kmf0 = KaplanMeierFitter()\n",
    "kmf0.fit(usa_0['duration'], event_observed=usa_0['subscribed'])\n",
    "\n",
    "kmf1 = KaplanMeierFitter()\n",
    "kmf1.fit(usa_1['duration'], event_observed=usa_1['subscribed'])\n",
    "\n",
    "fig, axes = plt.subplots()\n",
    "kmf0.plot_loglogs(ax=axes)\n",
    "kmf1.plot_loglogs(ax=axes)\n",
    "\n",
    "axes.legend(['Non-USA', 'USA'])\n",
    "\n",
    "plt.show()"
   ]
  },
  {
   "cell_type": "code",
   "execution_count": 923,
   "metadata": {
    "collapsed": false
   },
   "outputs": [
    {
     "data": {
      "text/html": [
       "<div>\n",
       "<table border=\"1\" class=\"dataframe\">\n",
       "  <thead>\n",
       "    <tr style=\"text-align: right;\">\n",
       "      <th></th>\n",
       "      <th>subscription_date</th>\n",
       "      <th>duration</th>\n",
       "      <th>subscribed</th>\n",
       "      <th>USA</th>\n",
       "    </tr>\n",
       "    <tr>\n",
       "      <th>trial_date</th>\n",
       "      <th></th>\n",
       "      <th></th>\n",
       "      <th></th>\n",
       "      <th></th>\n",
       "    </tr>\n",
       "  </thead>\n",
       "  <tbody>\n",
       "    <tr>\n",
       "      <th>2013-05-01</th>\n",
       "      <td>2013-05-14</td>\n",
       "      <td>13.0</td>\n",
       "      <td>True</td>\n",
       "      <td>True</td>\n",
       "    </tr>\n",
       "    <tr>\n",
       "      <th>2013-05-01</th>\n",
       "      <td>NaT</td>\n",
       "      <td>162.0</td>\n",
       "      <td>False</td>\n",
       "      <td>True</td>\n",
       "    </tr>\n",
       "    <tr>\n",
       "      <th>2013-05-01</th>\n",
       "      <td>2013-05-15</td>\n",
       "      <td>14.0</td>\n",
       "      <td>True</td>\n",
       "      <td>True</td>\n",
       "    </tr>\n",
       "    <tr>\n",
       "      <th>2013-05-01</th>\n",
       "      <td>NaT</td>\n",
       "      <td>162.0</td>\n",
       "      <td>False</td>\n",
       "      <td>True</td>\n",
       "    </tr>\n",
       "    <tr>\n",
       "      <th>2013-05-01</th>\n",
       "      <td>NaT</td>\n",
       "      <td>162.0</td>\n",
       "      <td>False</td>\n",
       "      <td>True</td>\n",
       "    </tr>\n",
       "  </tbody>\n",
       "</table>\n",
       "</div>"
      ],
      "text/plain": [
       "           subscription_date  duration subscribed   USA\n",
       "trial_date                                             \n",
       "2013-05-01        2013-05-14      13.0       True  True\n",
       "2013-05-01               NaT     162.0      False  True\n",
       "2013-05-01        2013-05-15      14.0       True  True\n",
       "2013-05-01               NaT     162.0      False  True\n",
       "2013-05-01               NaT     162.0      False  True"
      ]
     },
     "execution_count": 923,
     "metadata": {},
     "output_type": "execute_result"
    }
   ],
   "source": [
    "# Drop all day of week columns\n",
    "\n",
    "data.drop(['Monday', 'Tuesday', 'Wednesday', 'Thursday', \n",
    "           'Friday', 'Saturday', 'Sunday'], axis=1, inplace=True)\n",
    "\n",
    "data.head()"
   ]
  },
  {
   "cell_type": "markdown",
   "metadata": {},
   "source": [
    "### IV. Inter-Cohort Comparison"
   ]
  },
  {
   "cell_type": "markdown",
   "metadata": {},
   "source": [
    "We want to know if the cohorts are performing differently from one another. Let's compare the conversion rate curve for the May 31 cohort to the conversion rate curve for all other cohorts."
   ]
  },
  {
   "cell_type": "code",
   "execution_count": 924,
   "metadata": {
    "collapsed": false
   },
   "outputs": [],
   "source": [
    "# Generate KM_estimate of conversion rate for May 31 cohort \n",
    "\n",
    "cohort = datetime.datetime(2013, 5, 31)\n",
    "\n",
    "cohort_df = data.ix[(data.index == cohort)]\n",
    "\n",
    "kmf_may31 = KaplanMeierFitter()\n",
    "\n",
    "kmf_may31.fit(cohort_df['duration'], \n",
    "         event_observed=cohort_df['subscribed'])\n",
    "\n",
    "may31 = (1-kmf_may31.survival_function_)"
   ]
  },
  {
   "cell_type": "code",
   "execution_count": 925,
   "metadata": {
    "collapsed": false
   },
   "outputs": [],
   "source": [
    "# Generate KM_estimate of conversion rate for all other cohorts\n",
    "\n",
    "rest_df = data.ix[(data.index != cohort)]\n",
    "\n",
    "kmf_non_may31 = KaplanMeierFitter()\n",
    "\n",
    "kmf_non_may31.fit(rest_df['duration'], \n",
    "         event_observed=rest_df['subscribed'])\n",
    "\n",
    "non_may31 = (1-kmf_non_may31.survival_function_)"
   ]
  },
  {
   "cell_type": "markdown",
   "metadata": {},
   "source": [
    "We are unable to conclude that the difference between the two curves is statistically significant. Intuitively, it makes sense that two cohorts would not have different conversion rates just because trial dates started on different days. In light of this, it might be worth exploring alternative methods of creating cohorts that are more likely to expose true differences--for instance, creating cohorts based on marketing channels."
   ]
  },
  {
   "cell_type": "code",
   "execution_count": 926,
   "metadata": {
    "collapsed": false
   },
   "outputs": [
    {
     "name": "stdout",
     "output_type": "stream",
     "text": [
      "Results\n",
      "   df: 1\n",
      "   alpha: 0.95\n",
      "   t 0: -1\n",
      "   test: logrank\n",
      "   null distribution: chi squared\n",
      "\n",
      "   __ p-value ___|__ test statistic __|____ test result ____|__ is significant __\n",
      "         0.60909 |              0.262 |  Cannot Reject Null |       False       \n"
     ]
    }
   ],
   "source": [
    "from lifelines.statistics import logrank_test\n",
    "\n",
    "results = logrank_test(cohort_df['duration'], rest_df['duration'], \n",
    "                        event_observed_A=cohort_df['subscribed'], \n",
    "                        event_observed_B=rest_df['subscribed'])\n",
    "results.print_summary()"
   ]
  },
  {
   "cell_type": "markdown",
   "metadata": {},
   "source": [
    "### V. Predicting Future Conversion Rates"
   ]
  },
  {
   "cell_type": "markdown",
   "metadata": {},
   "source": [
    "Given what we know about conversion rates generally, we'd like to forecast 30-day conversion rates for cohorts for which we have limited information. One way to do this is via a sliding window approach, whereby we fit a model to the past data and use that fitted model to forecast the future. We can demonstrate this approach by pretending that the current date is June 1, and we would like to predict the 30-day conversion rate for the May 31 cohort. On the first day of our window, we have only one day of data for the May 31 cohort. As we move forward in time, the estimates become more accurate, and the error between the predicted 30-day conversion rate and the actual 30-day conversion rate decreases."
   ]
  },
  {
   "cell_type": "code",
   "execution_count": 927,
   "metadata": {
    "collapsed": false
   },
   "outputs": [
    {
     "name": "stdout",
     "output_type": "stream",
     "text": [
      "Prediction: 0.171, Actual: 0.184, Absolute Error: 0.073\n",
      "Prediction: 0.170, Actual: 0.184, Absolute Error: 0.076\n",
      "Prediction: 0.170, Actual: 0.184, Absolute Error: 0.074\n",
      "Prediction: 0.172, Actual: 0.184, Absolute Error: 0.063\n",
      "Prediction: 0.174, Actual: 0.184, Absolute Error: 0.054\n",
      "Prediction: 0.175, Actual: 0.184, Absolute Error: 0.046\n",
      "Prediction: 0.176, Actual: 0.184, Absolute Error: 0.042\n",
      "Prediction: 0.177, Actual: 0.184, Absolute Error: 0.039\n",
      "Prediction: 0.176, Actual: 0.184, Absolute Error: 0.042\n",
      "Prediction: 0.176, Actual: 0.184, Absolute Error: 0.043\n",
      "Prediction: 0.177, Actual: 0.184, Absolute Error: 0.036\n",
      "Prediction: 0.178, Actual: 0.184, Absolute Error: 0.032\n",
      "Prediction: 0.178, Actual: 0.184, Absolute Error: 0.030\n",
      "Prediction: 0.178, Actual: 0.184, Absolute Error: 0.030\n",
      "Prediction: 0.179, Actual: 0.184, Absolute Error: 0.028\n",
      "Prediction: 0.179, Actual: 0.184, Absolute Error: 0.028\n",
      "Prediction: 0.179, Actual: 0.184, Absolute Error: 0.028\n",
      "Prediction: 0.179, Actual: 0.184, Absolute Error: 0.025\n",
      "Prediction: 0.180, Actual: 0.184, Absolute Error: 0.022\n",
      "Prediction: 0.180, Actual: 0.184, Absolute Error: 0.021\n",
      "Prediction: 0.180, Actual: 0.184, Absolute Error: 0.022\n",
      "Prediction: 0.180, Actual: 0.184, Absolute Error: 0.021\n",
      "Prediction: 0.180, Actual: 0.184, Absolute Error: 0.022\n",
      "Prediction: 0.180, Actual: 0.184, Absolute Error: 0.021\n",
      "Prediction: 0.180, Actual: 0.184, Absolute Error: 0.020\n",
      "Prediction: 0.180, Actual: 0.184, Absolute Error: 0.020\n",
      "Prediction: 0.180, Actual: 0.184, Absolute Error: 0.020\n",
      "Prediction: 0.180, Actual: 0.184, Absolute Error: 0.019\n",
      "Prediction: 0.180, Actual: 0.184, Absolute Error: 0.019\n",
      "Prediction: 0.180, Actual: 0.184, Absolute Error: 0.019\n"
     ]
    }
   ],
   "source": [
    "# Use a sliding window to make 30-day predictions for May 31 cohort \n",
    "# and score against 'actual' 30-day conversion rate\n",
    "\n",
    "daterange = pd.date_range(start=datetime.datetime(2013,6,1), \n",
    "                          end=datetime.datetime(2013,6,30), \n",
    "                          freq='D')\n",
    "\n",
    "day = 29\n",
    "\n",
    "for d in daterange:\n",
    "    \n",
    "    # Create training dataset\n",
    "    \n",
    "    train_df = data.reset_index()\n",
    "    \n",
    "    train_df = train_df[['trial_date', 'subscription_date', 'USA']]\n",
    "    \n",
    "    start_dates = train_df['trial_date']\n",
    "    end_dates = train_df['subscription_date']\n",
    "    T, E = datetimes_to_durations(start_dates, \n",
    "                              end_dates,\n",
    "                              fill_date=d, \n",
    "                              freq='D')\n",
    "\n",
    "    durations = pd.DataFrame(T, columns=['duration'])\n",
    "    event_observed = pd.DataFrame(E, columns=['subscribed'])\n",
    "    train_df = pd.concat([train_df, durations, event_observed], \n",
    "                         axis=1)\n",
    "    \n",
    "    train_df.set_index('trial_date', inplace=True) # Set trial_date to index\n",
    "\n",
    "    train_df = train_df.ix[((train_df['subscription_date'] < d) | \\\n",
    "                            (train_df['subscribed']==False)) \\\n",
    "                       & (train_df.index < d)]\n",
    "\n",
    "    cph.fit(train_df.iloc[:,1:], duration_col='duration', \n",
    "            event_col='subscribed')\n",
    "\n",
    "    pred_df = train_df.ix[((train_df['subscription_date'] < d) | \\\n",
    "                           (train_df['subscribed']==False)) \\\n",
    "                      & (train_df.index==cohort)]\n",
    "\n",
    "    preds = (1-cph.predict_survival_function(pred_df)).mean(axis=1)\n",
    "    \n",
    "    pred = preds.iloc[day] # prediction for day 30\n",
    "    \n",
    "    error = abs(pred - may31.iloc[day]) / may31.iloc[day]\n",
    "\n",
    "    print ('Prediction: %.3f, Actual: %.3f, Absolute Error: %.3f' \\\n",
    "           % (pred, may31.iloc[day], error))"
   ]
  },
  {
   "cell_type": "markdown",
   "metadata": {},
   "source": [
    "One thing to note is that we chose the 30-day conversion rate due to limitations in our data: the oldest cohort is only ~1 month old on June 1, meaning that we cannot make predictions beyond one month. If we had data for trial starts dating back to March, we could forecast a 90-day conversion rate, which would be closer to our stated goal of determining the \"eventual conversion rate.\" With a larger dataset, we could also cross-validate our findings to see how stable the error curve is across different cohorts. Finally, we should think carefully about how our model is intended to be used by the business. If we are simply trying to determine if a cohort is better or worse than average, then it probably does not make sense to optimize for prediction error. If we are using the forecast for financial modeling, however, then prediction error may be the correct metric."
   ]
  }
 ],
 "metadata": {
  "kernelspec": {
   "display_name": "Python 2",
   "language": "python",
   "name": "python2"
  },
  "language_info": {
   "codemirror_mode": {
    "name": "ipython",
    "version": 2
   },
   "file_extension": ".py",
   "mimetype": "text/x-python",
   "name": "python",
   "nbconvert_exporter": "python",
   "pygments_lexer": "ipython2",
   "version": "2.7.13"
  }
 },
 "nbformat": 4,
 "nbformat_minor": 2
}
